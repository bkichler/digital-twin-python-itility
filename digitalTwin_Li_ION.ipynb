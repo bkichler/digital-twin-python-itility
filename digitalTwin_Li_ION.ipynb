{
 "cells": [
  {
   "cell_type": "markdown",
   "metadata": {
    "id": "AEil20eqS2So"
   },
   "source": [
    "# Hybrid digital twin of a Li-ion battery\n"
   ]
  },
  {
   "cell_type": "code",
   "execution_count": null,
   "metadata": {
    "id": "ZYaB7HSTS2Ss"
   },
   "outputs": [],
   "source": [
    "import pandas as pd\n",
    "import numpy as np\n",
    "from sklearn.model_selection import train_test_split\n",
    "import keras\n",
    "import tensorflow as tf\n",
    "from keras.models import Sequential\n",
    "from keras.layers import LSTM, Dense\n",
    "from tensorflow.keras.optimizers import SGD\n",
    "from tensorflow.keras.layers import Dropout\n",
    "# from matplotlib import pyplot as plt\n",
    "import plotly.express as px\n",
    "from plotly.subplots import make_subplots\n",
    "import plotly.graph_objects as go\n",
    "import plotly.figure_factory as ff\n",
    "\n",
    "import plotly.io as pio\n",
    "pio.renderers.default='notebook'"
   ]
  },
  {
   "cell_type": "markdown",
   "metadata": {
    "id": "NIhtsIQHS2St"
   },
   "source": [
    "### 1. Load experimental data"
   ]
  },
  {
   "cell_type": "code",
   "execution_count": null,
   "metadata": {
    "id": "UrmwSwuMS_iY"
   },
   "outputs": [],
   "source": [
    "df = pd.read_csv('discharge.csv')"
   ]
  },
  {
   "cell_type": "code",
   "execution_count": null,
   "metadata": {
    "id": "rWmpbfS7W9zV"
   },
   "outputs": [],
   "source": [
    "df = df[df['Battery'] == 'B0005']\n",
    "df = df[df['Temperature_measured'] > 36] #choose battery B0005\n",
    "#df['Time'] =pd.to_datetime(df['Time'], unit='s')\n",
    "dfb = df.groupby(['id_cycle']).max()\n",
    "dfb['Cumulated_T'] = dfb['Time'].cumsum()"
   ]
  },
  {
   "cell_type": "code",
   "execution_count": null,
   "metadata": {
    "colab": {
     "base_uri": "https://localhost:8080/",
     "height": 1000
    },
    "id": "CcBEYPoQC9SE",
    "outputId": "7e16313e-8ccf-4422-a787-a8dba8e29a22"
   },
   "outputs": [],
   "source": [
    "import plotly.express as px\n",
    "fig = px.scatter_matrix(dfb.drop(columns=['Time','type', 'ambient_temperature', \n",
    "                                          'time', 'Battery']), \n",
    "                                )\n",
    "fig.update_traces(marker=dict(size=2,\n",
    "                              color='crimson',\n",
    "                              symbol='square')),\n",
    "fig.update_traces(diagonal_visible=False)\n",
    "fig.update_layout(\n",
    "    title='Battery dataset',\n",
    "    width=900,\n",
    "    height=1200,\n",
    ")\n",
    "fig.update_layout({'plot_bgcolor': '#f2f8fd',\n",
    "                   'paper_bgcolor': 'white',}, \n",
    "                    template='plotly_white',\n",
    "                    font=dict(size=7)\n",
    "                    )\n",
    "\n",
    "fig.show()"
   ]
  },
  {
   "cell_type": "code",
   "execution_count": null,
   "metadata": {
    "colab": {
     "base_uri": "https://localhost:8080/",
     "height": 542
    },
    "id": "bmLhWPg6Dnzk",
    "outputId": "1a350f6d-dd02-4b61-fbb8-404ba9510ecc"
   },
   "outputs": [],
   "source": [
    "fig = go.Figure()\n",
    "\n",
    "fig.add_trace(go.Scatter(x=dfb['Cumulated_T']/3600, \n",
    "                         y=dfb['Capacity'],\n",
    "                         mode='lines',\n",
    "                         name='Capacity',\n",
    "                         marker_size=3, \n",
    "                         line=dict(color='crimson', width=3)    \n",
    "                        ))\n",
    "fig.update_layout(\n",
    "                  title=\"Real-world battery discharge capacity\",\n",
    "                  xaxis_title=\"Working time [hours]\",\n",
    "                  yaxis_title=f\"Battery capacity in amp hours (Ah)\"\n",
    "    )\n",
    "fig.update_layout({'plot_bgcolor': '#f2f8fd',\n",
    "                   'paper_bgcolor': 'white',}, \n",
    "                    template='plotly_white')"
   ]
  },
  {
   "cell_type": "markdown",
   "metadata": {
    "id": "z4khX4N5wys7"
   },
   "source": [
    "### 2. Define a physical model"
   ]
  },
  {
   "cell_type": "markdown",
   "metadata": {
    "id": "NhiMrtrkcpiR"
   },
   "source": [
    "Physical model according [1]. The basic equation is:<br>\n",
    "<center> $L = 1 − (1 − L' )e^{-f_d}$ </center><br>\n",
    "\n",
    "Where $L$ is the battery lifetime and $L'$ the initial battery lifetime. $f_d$ is a Linearized degradation rate per unit time and per cycle.  It can be described as:<br>\n",
    "<center> $f_d = f_d(t, δ, σ, T_c)$ </center><br> \n",
    "\n",
    "where $t$ is charging time, δ is the cycle depth of discharge, σ is the cycle average state of charge, and $T_c$ is cell temperature. The equation for baatery capacity could be written as follows:<br>\n",
    "<center> $C = C_0e^{f_d}$ </center><br>\n",
    "\n",
    "We have empirically found that $f_d$ aproximates to:\n",
    "<center> $f_d = \\frac{kT_Ci}{t}$ </center><br>\n",
    "\n",
    "where $k= $ 0.13, $i$ the cycle number and $t$ the charge time for every cycle.\n",
    "\n",
    "- [1] *Xu, Bolun & Oudalov, Alexandre & Ulbig, Andreas & Andersson, Göran & Kirschen, D.s. (2016). Modeling of Lithium-Ion Battery Degradation for Cell Life Assessment. IEEE Transactions on Smart Grid. 99. 1-1. 10.1109/TSG.2016.2578950.* "
   ]
  },
  {
   "cell_type": "code",
   "execution_count": null,
   "metadata": {
    "id": "rTU_ImZ1rPLf"
   },
   "outputs": [],
   "source": [
    "from math import e\n",
    "L = (dfb['Capacity']-dfb['Capacity'].iloc[0:1].values[0])/-dfb['Capacity'].iloc[0:1].values[0]\n",
    "K = 0.13\n",
    "L_1 = 1-e**(-K*dfb.index*dfb['Temperature_measured']/(dfb['Time']))\n",
    "dfb['Physics Model Capacity'] = -(L_1*dfb['Capacity'].iloc[0:1].values[0]) + dfb['Capacity'].iloc[0:1].values[0]"
   ]
  },
  {
   "cell_type": "code",
   "execution_count": null,
   "metadata": {
    "colab": {
     "base_uri": "https://localhost:8080/",
     "height": 542
    },
    "id": "l8bmHjJQCBEe",
    "outputId": "0030b53e-9dde-449a-9f29-ba6606820c2e"
   },
   "outputs": [],
   "source": [
    "fig = go.Figure()\n",
    "\n",
    "fig.add_trace(go.Scatter(x=dfb.index, \n",
    "                         y=dfb['Physics Model Capacity'],\n",
    "                         mode='lines',\n",
    "                         name='Physics-based model capacity',\n",
    "                         line=dict(color='navy', \n",
    "                                   width=2.5,\n",
    "                                   )))\n",
    "\n",
    "fig.add_trace(go.Scatter(x=dfb.index, \n",
    "                         y=dfb['Capacity'],\n",
    "                         mode='markers',\n",
    "                         marker=dict(\n",
    "                              size=4,\n",
    "                              color='grey',\n",
    "                              symbol='cross'\n",
    "                                 ),\n",
    "                         name='Real-world capacity',\n",
    "                         line_color='navy'))\n",
    "fig.update_layout(\n",
    "    title=\"Physical model comparison \",\n",
    "    xaxis_title=\"Cycles\",\n",
    "    yaxis_title=\"𝐶, Capacity [Amp Hours]\")\n",
    "\n",
    "fig.update_layout(legend=dict(\n",
    "    yanchor=\"top\",\n",
    "    y=0.9,\n",
    "    xanchor=\"left\",\n",
    "    x=0.8\n",
    "))\n",
    "\n",
    "fig.update_layout({'plot_bgcolor': '#f2f8fd',\n",
    "                  'paper_bgcolor': 'white',}, \n",
    "                   template='plotly_white')"
   ]
  },
  {
   "cell_type": "markdown",
   "metadata": {
    "id": "GaZ8opJqS2Sx"
   },
   "source": [
    "### 3. Compare experimental data with physical model"
   ]
  },
  {
   "cell_type": "code",
   "execution_count": null,
   "metadata": {
    "colab": {
     "base_uri": "https://localhost:8080/"
    },
    "id": "0jRN6RyZxMvG",
    "outputId": "22590dfb-0d36-453b-a065-9117fe84aa81"
   },
   "outputs": [],
   "source": [
    "# Mean Absolute Error\n",
    "M = pd.DataFrame()\n",
    "S = pd.DataFrame()\n",
    "def MAE(M,S):    \n",
    "    return np.sum(S-M)/len(S)\n",
    "\n",
    "print(f'Mean Absolute Error =', round(MAE(dfb['Capacity'], dfb['Physics Model Capacity']), 3))"
   ]
  },
  {
   "cell_type": "markdown",
   "metadata": {
    "id": "MQj67klQS2S0"
   },
   "source": [
    "### 4. Hybrid digital twin "
   ]
  },
  {
   "cell_type": "code",
   "execution_count": null,
   "metadata": {
    "id": "P4tOwrSYS2S0"
   },
   "outputs": [],
   "source": [
    "#Define inputs and outputs\n",
    "physics_model_capacity = dfb['Physics Model Capacity']          # input: the simulation time series\n",
    "delta_observed_and_physics_capacity = dfb['Capacity'] - dfb['Physics Model Capacity']   # output: difference between measurement and simulation\n",
    "\n",
    "physics_model_capacity_train, physics_model_capacity_test, delta_observed_and_physics_capacity_train, delta_observed_and_physics_capacity_test = train_test_split(physics_model_capacity, delta_observed_and_physics_capacity, test_size=0.33)"
   ]
  },
  {
   "cell_type": "code",
   "execution_count": null,
   "metadata": {
    "colab": {
     "base_uri": "https://localhost:8080/"
    },
    "id": "r4RzAol2J8or",
    "outputId": "d096e003-658c-4c95-c759-3e315ade8d63"
   },
   "outputs": [],
   "source": [
    "physics_model_capacity_train.shape"
   ]
  },
  {
   "cell_type": "code",
   "execution_count": null,
   "metadata": {
    "id": "dnfxtbRqF1V6"
   },
   "outputs": [],
   "source": [
    "#The Dense function in Keras constructs a fully connected neural network layer, automatically initializing the weights as biases.\n",
    "#First hidden layer\n",
    "model = Sequential()\n",
    "model.add(Dense(64, activation='relu'))\n",
    "model.add(Dense(64, activation='relu'))\n",
    "model.add(Dense(1))"
   ]
  },
  {
   "cell_type": "code",
   "execution_count": null,
   "metadata": {
    "colab": {
     "base_uri": "https://localhost:8080/"
    },
    "id": "xpWJebynF6uZ",
    "outputId": "bcc5ab35-7be1-491c-a89f-db29f12638e5"
   },
   "outputs": [],
   "source": [
    "epochs = 100\n",
    "loss = \"mse\"\n",
    "model.compile(optimizer='adam',\n",
    "              loss=loss,\n",
    "              metrics=['mae'], #Mean Absolute Error\n",
    "             )\n",
    "history = model.fit(physics_model_capacity_train, delta_observed_and_physics_capacity_train, \n",
    "                    shuffle=True, \n",
    "                    epochs=epochs,\n",
    "                    batch_size=20,\n",
    "                    validation_data=(physics_model_capacity_test, delta_observed_and_physics_capacity_test), \n",
    "                    verbose=1)"
   ]
  },
  {
   "cell_type": "code",
   "execution_count": null,
   "metadata": {
    "colab": {
     "base_uri": "https://localhost:8080/",
     "height": 542
    },
    "id": "m40rR1lA8COE",
    "outputId": "865a83fe-c2fd-4cc0-fa6e-553f23e1fca6"
   },
   "outputs": [],
   "source": [
    "fig = go.Figure()\n",
    "\n",
    "fig.add_trace(go.Scatter(x=np.arange(0, epochs, 1),\n",
    "                         y=history.history['mae'],\n",
    "                         mode='lines',\n",
    "                         name=f'Training Mean Absolute Error',\n",
    "                         marker_size=3, \n",
    "                         line_color='orange'))\n",
    "fig.add_trace(go.Scatter(x=np.arange(0, epochs, 1),\n",
    "                         y=history.history['val_mae'],\n",
    "                         mode='lines',\n",
    "                         name=f'Validation Mean Absolute Error',\n",
    "                         line_color='grey'))\n",
    "\n",
    "fig.update_layout(\n",
    "                  title=\"Network training\",\n",
    "                  xaxis_title=\"Epochs\",\n",
    "                  yaxis_title=f\"Mean Absolute Error\")\n",
    "fig.update_layout({'plot_bgcolor': '#f2f8fd' , \n",
    "                   'paper_bgcolor': 'white',}, \n",
    "                   template='plotly_white')"
   ]
  },
  {
   "cell_type": "markdown",
   "metadata": {
    "id": "gXIxRV1HS2S3"
   },
   "source": [
    "### 4. Compile the hybrid digital twin"
   ]
  },
  {
   "cell_type": "code",
   "execution_count": null,
   "metadata": {
    "colab": {
     "base_uri": "https://localhost:8080/",
     "height": 542
    },
    "id": "0PjNqTBjAEEi",
    "outputId": "ff5267eb-f824-4909-a738-18f3c83b375a"
   },
   "outputs": [],
   "source": [
    "physics_model_capacity_train, physics_model_capacity_test, delta_observed_and_physics_capacity_train, delta_observed_and_physics_capacity_test\n",
    "\n",
    "fig = go.Figure()\n",
    "fig.add_trace(go.Scatter(x=physics_model_capacity_train,\n",
    "                         y=delta_observed_and_physics_capacity_train,\n",
    "                         mode='markers',\n",
    "                         name=f'Modelled Capacity',\n",
    "                         marker=dict(\n",
    "                              size=4,\n",
    "                              color='grey',\n",
    "                              symbol='cross'\n",
    "                                 ), \n",
    "                        line_color='crimson'))\n",
    "fig.add_trace(go.Scatter(x = physics_model_capacity_train, \n",
    "                         y=model.predict(physics_model_capacity_train).reshape(-1),\n",
    "                         mode='lines',\n",
    "                         name=f'Trained Capacity',\n",
    "                         line=dict(color='navy', width=3)))\n",
    "fig.update_layout(\n",
    "    title=\"Neural network training\",\n",
    "    xaxis_title=\"Modelled capacity\",\n",
    "    yaxis_title=\"Δ (Modelled Capacity - Measured Capacity)\")\n",
    "\n",
    "fig.update_layout(legend=dict(\n",
    "    yanchor=\"top\",\n",
    "    y=0.95,\n",
    "    xanchor=\"left\",\n",
    "    x=0.45\n",
    "))\n",
    "fig.update_layout({'plot_bgcolor': '#f2f8fd' , #or azure\n",
    "'paper_bgcolor': 'white',}, template='plotly_white')"
   ]
  },
  {
   "cell_type": "code",
   "execution_count": null,
   "metadata": {
    "colab": {
     "base_uri": "https://localhost:8080/",
     "height": 542
    },
    "id": "5U6sfANYBjxd",
    "outputId": "52c95c9b-d4b2-4103-fe3b-85fcce2f607c"
   },
   "outputs": [],
   "source": [
    "predicted_hybrid_twin = physics_model_capacity + model.predict(physics_model_capacity).reshape(-1)\n",
    "\n",
    "fig = go.Figure()\n",
    "\n",
    "fig.add_trace(go.Scatter(x=dfb.index, \n",
    "                         y=predicted_hybrid_twin,\n",
    "                         mode='lines',\n",
    "                         name=f'Hybrid digital twin',\n",
    "                         line=dict(color='firebrick', width=3)))\n",
    "\n",
    "fig.add_trace(go.Scatter(x=dfb.index, \n",
    "                         y=dfb['Physics Model Capacity'],\n",
    "                         mode='lines',\n",
    "                         name=f'Physics Model Capacity',\n",
    "                         line=dict(color='navy', \n",
    "                                   width=3,\n",
    "                                   dash='dash')))\n",
    "\n",
    "fig.add_trace(go.Scatter(x=dfb.index, \n",
    "                         y=dfb['Capacity'],\n",
    "                         mode='markers',\n",
    "                         marker=dict(\n",
    "                              size=4,\n",
    "                              color='grey',\n",
    "                              symbol='cross'\n",
    "                                 ),\n",
    "                         name=f'Observed capacity',\n",
    "                         line_color='navy'))\n",
    "\n",
    "fig.update_layout(\n",
    "    title=\"Comparison of hybrid twin with other models\",\n",
    "    xaxis_title=\"Cycles\",\n",
    "    yaxis_title=\"Capacity in Amp Hours\")\n",
    "\n",
    "fig.update_layout(legend=dict(\n",
    "    yanchor=\"top\",\n",
    "    y=0.95,\n",
    "    xanchor=\"left\",\n",
    "    x=0.77\n",
    "))\n",
    "fig.update_layout({'plot_bgcolor': '#f2f8fd',\n",
    "                  'paper_bgcolor': 'white',}, \n",
    "                   template='plotly_white')"
   ]
  },
  {
   "cell_type": "markdown",
   "metadata": {
    "id": "lt2L-FqWS2S3"
   },
   "source": [
    "## 5. Prediction with hybrid twin model\n"
   ]
  },
  {
   "cell_type": "code",
   "execution_count": null,
   "metadata": {
    "id": "pf-mRrfdJ5ek"
   },
   "outputs": [],
   "source": [
    "cycles = np.arange(168,500,1)\n",
    "temperature = dfb['Temperature_measured'].iloc[167]\n",
    "time = dfb['Time'].iloc[167]\n",
    "K = 0.13\n",
    "L_e = 1-e**(-K*cycles*temperature/time)\n",
    "X_in_e = -(L_e*dfb['Capacity'].iloc[0:1].values[0]) + dfb['Capacity'].iloc[0:1].values[0]\n",
    "C_twin_e = X_in_e + model.predict(X_in_e).reshape(-1)"
   ]
  },
  {
   "cell_type": "code",
   "execution_count": null,
   "metadata": {
    "colab": {
     "base_uri": "https://localhost:8080/",
     "height": 542
    },
    "id": "4WJpp8TzMvPq",
    "outputId": "0840db8c-cb67-4a77-cb1e-dedfb990b2d8"
   },
   "outputs": [],
   "source": [
    "predicted_hybrid_twin = physics_model_capacity + model.predict(physics_model_capacity).reshape(-1)\n",
    "\n",
    "fig = go.Figure()\n",
    "\n",
    "fig.add_trace(go.Scatter(x=cycles, \n",
    "                         y=X_in_e,\n",
    "                         mode='lines',\n",
    "                         name=f'Physics-based model capacity (predicted)',\n",
    "                         line=dict(color='navy', \n",
    "                                   width=3,\n",
    "                                   dash='dash')))\n",
    "fig.add_trace(go.Scatter(x=cycles, \n",
    "                         y=C_twin_e,\n",
    "                         mode='lines',\n",
    "                         name=f'C Digital twin (predicted)',\n",
    "                         line=dict(color='crimson', \n",
    "                                   width=3,\n",
    "                                   dash='dash'\n",
    "                                  )))\n",
    "\n",
    "fig.add_trace(go.Scatter(x=dfb.index, \n",
    "                         y=X_twin,\n",
    "                         mode='lines',\n",
    "                         name=f'Digital twin modelled capacity',\n",
    "                         line=dict(color='crimson',\n",
    "                                   width=2)))\n",
    "fig.add_trace(go.Scatter(x=dfb.index, \n",
    "                         y=dfb['Physics Model Capacity'],\n",
    "                         mode='lines',\n",
    "                         name=f'Physics-based model capacity',\n",
    "                         line=dict(color='navy', \n",
    "                                   width=2)))\n",
    "\n",
    "fig.update_layout(\n",
    "    title=\"Battery capacity prediction\",\n",
    "    xaxis_title=\"Cycles\",\n",
    "    yaxis_title=\"Battery capacity [Ahr]\")\n",
    "fig.update_layout(legend=dict(\n",
    "    yanchor=\"top\",\n",
    "    y=0.95,\n",
    "    xanchor=\"left\",\n",
    "    x=0.72\n",
    "))\n",
    "fig.update_layout({'plot_bgcolor': '#f2f8fd',\n",
    "                  'paper_bgcolor': 'white',}, \n",
    "                   template='plotly_white')"
   ]
  },
  {
   "cell_type": "code",
   "execution_count": null,
   "metadata": {},
   "outputs": [],
   "source": []
  }
 ],
 "metadata": {
  "colab": {
   "collapsed_sections": [],
   "name": "digitalTwin_Li_ION_.ipynb",
   "provenance": []
  },
  "kernelspec": {
   "display_name": "Python 3 (ipykernel)",
   "language": "python",
   "name": "python3"
  },
  "language_info": {
   "codemirror_mode": {
    "name": "ipython",
    "version": 3
   },
   "file_extension": ".py",
   "mimetype": "text/x-python",
   "name": "python",
   "nbconvert_exporter": "python",
   "pygments_lexer": "ipython3",
   "version": "3.9.12"
  }
 },
 "nbformat": 4,
 "nbformat_minor": 4
}
